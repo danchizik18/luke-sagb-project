{
 "cells": [
  {
   "cell_type": "code",
   "execution_count": 16,
   "metadata": {},
   "outputs": [],
   "source": [
    "import pandas as pd\n",
    "import numpy as np\n",
    "import re"
   ]
  },
  {
   "cell_type": "code",
   "execution_count": 6,
   "metadata": {},
   "outputs": [],
   "source": [
    "AD_similar = [\n",
    "    \"LeBron James\", \"Kevin Durant\", \"Chris Paul\", \"Dirk Nowitzki\",\n",
    "    \"James Harden\", \"Dwyane Wade\", \"Stephen Curry\", \"Pau Gasol\",\n",
    "    \"Tim Duncan\", \"Dwight Howard\", \"Kobe Bryant\", \"Kevin Love\", \"Anthony Davis\"\n",
    "]"
   ]
  },
  {
   "cell_type": "code",
   "execution_count": 7,
   "metadata": {},
   "outputs": [],
   "source": [
    "luke_similar = [\n",
    "    \"LeBron James\", \"Nikola Jokić\", \"Kevin Durant\", \"Luka Dončić\",\n",
    "    \"James Harden\", \"Karl-Anthony Towns\", \"DeMarcus Cousins\", \"Kevin Love\", \"Joel Embiid\"\n",
    "]"
   ]
  },
  {
   "cell_type": "code",
   "execution_count": 5,
   "metadata": {},
   "outputs": [
    {
     "data": {
      "text/html": [
       "<div>\n",
       "<style scoped>\n",
       "    .dataframe tbody tr th:only-of-type {\n",
       "        vertical-align: middle;\n",
       "    }\n",
       "\n",
       "    .dataframe tbody tr th {\n",
       "        vertical-align: top;\n",
       "    }\n",
       "\n",
       "    .dataframe thead th {\n",
       "        text-align: right;\n",
       "    }\n",
       "</style>\n",
       "<table border=\"1\" class=\"dataframe\">\n",
       "  <thead>\n",
       "    <tr style=\"text-align: right;\">\n",
       "      <th></th>\n",
       "      <th>Trade Details</th>\n",
       "    </tr>\n",
       "  </thead>\n",
       "  <tbody>\n",
       "    <tr>\n",
       "      <th>11</th>\n",
       "      <td>The Indiana Pacers traded a 2028 2nd round dra...</td>\n",
       "    </tr>\n",
       "    <tr>\n",
       "      <th>14</th>\n",
       "      <td>The Memphis Grizzlies traded a 2028 2nd round ...</td>\n",
       "    </tr>\n",
       "    <tr>\n",
       "      <th>8</th>\n",
       "      <td>The Miami Heat traded Victor Oladipo, a 2029 2...</td>\n",
       "    </tr>\n",
       "    <tr>\n",
       "      <th>32</th>\n",
       "      <td>The Toronto Raptors traded Kira Lewis Jr., Ott...</td>\n",
       "    </tr>\n",
       "    <tr>\n",
       "      <th>27</th>\n",
       "      <td>The Charlotte Hornets traded Terry Rozier to t...</td>\n",
       "    </tr>\n",
       "    <tr>\n",
       "      <th>46</th>\n",
       "      <td>The Charlotte Hornets traded Gordon Hayward to...</td>\n",
       "    </tr>\n",
       "    <tr>\n",
       "      <th>21</th>\n",
       "      <td>In a 3-team trade, the Los Angeles Clippers tr...</td>\n",
       "    </tr>\n",
       "    <tr>\n",
       "      <th>17</th>\n",
       "      <td>The Phoenix Suns traded Cameron Payne, cash an...</td>\n",
       "    </tr>\n",
       "    <tr>\n",
       "      <th>33</th>\n",
       "      <td>The Brooklyn Nets traded Spencer Dinwiddie to ...</td>\n",
       "    </tr>\n",
       "    <tr>\n",
       "      <th>10</th>\n",
       "      <td>The Atlanta Hawks traded John Collins to the U...</td>\n",
       "    </tr>\n",
       "    <tr>\n",
       "      <th>36</th>\n",
       "      <td>The Charlotte Hornets traded P.J. Washington, ...</td>\n",
       "    </tr>\n",
       "    <tr>\n",
       "      <th>19</th>\n",
       "      <td>The Boston Celtics traded Malcolm Brogdon, Rob...</td>\n",
       "    </tr>\n",
       "    <tr>\n",
       "      <th>0</th>\n",
       "      <td>Transactions listed are from July 1, 2023 to \\...</td>\n",
       "    </tr>\n",
       "    <tr>\n",
       "      <th>12</th>\n",
       "      <td>In a 5-team trade, the Atlanta Hawks traded Al...</td>\n",
       "    </tr>\n",
       "    <tr>\n",
       "      <th>4</th>\n",
       "      <td>The Dallas Mavericks traded cash to the Sacram...</td>\n",
       "    </tr>\n",
       "  </tbody>\n",
       "</table>\n",
       "</div>"
      ],
      "text/plain": [
       "                                        Trade Details\n",
       "11  The Indiana Pacers traded a 2028 2nd round dra...\n",
       "14  The Memphis Grizzlies traded a 2028 2nd round ...\n",
       "8   The Miami Heat traded Victor Oladipo, a 2029 2...\n",
       "32  The Toronto Raptors traded Kira Lewis Jr., Ott...\n",
       "27  The Charlotte Hornets traded Terry Rozier to t...\n",
       "46  The Charlotte Hornets traded Gordon Hayward to...\n",
       "21  In a 3-team trade, the Los Angeles Clippers tr...\n",
       "17  The Phoenix Suns traded Cameron Payne, cash an...\n",
       "33  The Brooklyn Nets traded Spencer Dinwiddie to ...\n",
       "10  The Atlanta Hawks traded John Collins to the U...\n",
       "36  The Charlotte Hornets traded P.J. Washington, ...\n",
       "19  The Boston Celtics traded Malcolm Brogdon, Rob...\n",
       "0   Transactions listed are from July 1, 2023 to \\...\n",
       "12  In a 5-team trade, the Atlanta Hawks traded Al...\n",
       "4   The Dallas Mavericks traded cash to the Sacram..."
      ]
     },
     "execution_count": 5,
     "metadata": {},
     "output_type": "execute_result"
    }
   ],
   "source": [
    "trades2 = pd.read_csv('nba_trades.csv')\n",
    "trades2.sample(15)"
   ]
  },
  {
   "cell_type": "code",
   "execution_count": null,
   "metadata": {},
   "outputs": [],
   "source": []
  }
 ],
 "metadata": {
  "kernelspec": {
   "display_name": "myenv",
   "language": "python",
   "name": "python3"
  },
  "language_info": {
   "codemirror_mode": {
    "name": "ipython",
    "version": 3
   },
   "file_extension": ".py",
   "mimetype": "text/x-python",
   "name": "python",
   "nbconvert_exporter": "python",
   "pygments_lexer": "ipython3",
   "version": "3.11.11"
  }
 },
 "nbformat": 4,
 "nbformat_minor": 2
}
