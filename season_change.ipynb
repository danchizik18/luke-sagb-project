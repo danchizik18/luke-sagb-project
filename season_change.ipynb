{
 "cells": [
  {
   "cell_type": "markdown",
   "metadata": {},
   "source": [
    "# This notebook takes the most similar players to both Luka and AD (from the KNN algorithm in luka_AD.ipynb) and sees which of those similar players continued being a top 20 player in the league the following season"
   ]
  },
  {
   "cell_type": "code",
   "execution_count": 11,
   "metadata": {},
   "outputs": [],
   "source": [
    "import pandas as pd\n",
    "import numpy as np\n",
    "import matplotlib.pyplot as plt\n",
    "import seaborn as sns\n",
    "from sklearn.preprocessing import StandardScaler"
   ]
  },
  {
   "cell_type": "markdown",
   "metadata": {},
   "source": [
    "# Starting with Luka"
   ]
  },
  {
   "cell_type": "code",
   "execution_count": 69,
   "metadata": {},
   "outputs": [],
   "source": [
    "luka_similar = {\n",
    "    \"Chris Paul\": \"2011-2012\",\n",
    "    \"Russell Westbrook\": \"2015-2016\",\n",
    "    \"Kevin Love\": \"2013-2014\",\n",
    "    \"Derrick Rose\": \"2010-2011\",\n",
    "    \"Rajon Rondo\": \"2009-2010\",\n",
    "    \"Hedo Türkoğlu\": \"2007-2008\",\n",
    "    \"James Harden\": \"2017-2018\",\n",
    "    \"Stephen Curry\": \"2014-2015\",\n",
    "    \"Chris Paul\": \"2012-2013\",\n",
    "    \"Giannis Antetokounmpo\": \"2019-2020\",\n",
    "    \"Damian Lillard\": \"2017-2018\",\n",
    "    \"Giannis Antetokounmpo\": \"2018-2019\",\n",
    "    \"Brandon Roy\": \"2008-2009\",\n",
    "    \"Chris Paul\": \"2008-2009\"\n",
    "}\n"
   ]
  },
  {
   "cell_type": "code",
   "execution_count": 57,
   "metadata": {},
   "outputs": [
    {
     "data": {
      "text/html": [
       "<div>\n",
       "<style scoped>\n",
       "    .dataframe tbody tr th:only-of-type {\n",
       "        vertical-align: middle;\n",
       "    }\n",
       "\n",
       "    .dataframe tbody tr th {\n",
       "        vertical-align: top;\n",
       "    }\n",
       "\n",
       "    .dataframe thead th {\n",
       "        text-align: right;\n",
       "    }\n",
       "</style>\n",
       "<table border=\"1\" class=\"dataframe\">\n",
       "  <thead>\n",
       "    <tr style=\"text-align: right;\">\n",
       "      <th></th>\n",
       "      <th>Player</th>\n",
       "      <th>Age</th>\n",
       "      <th>Team</th>\n",
       "      <th>Pos</th>\n",
       "      <th>G</th>\n",
       "      <th>GS</th>\n",
       "      <th>MP</th>\n",
       "      <th>PER</th>\n",
       "      <th>TS%</th>\n",
       "      <th>3PAr</th>\n",
       "      <th>...</th>\n",
       "      <th>USG%</th>\n",
       "      <th>OWS</th>\n",
       "      <th>DWS</th>\n",
       "      <th>WS</th>\n",
       "      <th>WS/48</th>\n",
       "      <th>OBPM</th>\n",
       "      <th>DBPM</th>\n",
       "      <th>BPM</th>\n",
       "      <th>VORP</th>\n",
       "      <th>Season</th>\n",
       "    </tr>\n",
       "  </thead>\n",
       "  <tbody>\n",
       "    <tr>\n",
       "      <th>0</th>\n",
       "      <td>LeBron James</td>\n",
       "      <td>22</td>\n",
       "      <td>CLE</td>\n",
       "      <td>SF</td>\n",
       "      <td>78</td>\n",
       "      <td>78</td>\n",
       "      <td>3190</td>\n",
       "      <td>24.5</td>\n",
       "      <td>0.552</td>\n",
       "      <td>0.191</td>\n",
       "      <td>...</td>\n",
       "      <td>31.0</td>\n",
       "      <td>8.0</td>\n",
       "      <td>5.7</td>\n",
       "      <td>13.7</td>\n",
       "      <td>0.206</td>\n",
       "      <td>5.9</td>\n",
       "      <td>2.2</td>\n",
       "      <td>8.1</td>\n",
       "      <td>8.1</td>\n",
       "      <td>2006-2007</td>\n",
       "    </tr>\n",
       "    <tr>\n",
       "      <th>1</th>\n",
       "      <td>Dirk Nowitzki</td>\n",
       "      <td>28</td>\n",
       "      <td>DAL</td>\n",
       "      <td>PF</td>\n",
       "      <td>78</td>\n",
       "      <td>78</td>\n",
       "      <td>2820</td>\n",
       "      <td>27.6</td>\n",
       "      <td>0.605</td>\n",
       "      <td>0.129</td>\n",
       "      <td>...</td>\n",
       "      <td>28.9</td>\n",
       "      <td>11.8</td>\n",
       "      <td>4.5</td>\n",
       "      <td>16.3</td>\n",
       "      <td>0.278</td>\n",
       "      <td>7.2</td>\n",
       "      <td>1.2</td>\n",
       "      <td>8.3</td>\n",
       "      <td>7.4</td>\n",
       "      <td>2006-2007</td>\n",
       "    </tr>\n",
       "    <tr>\n",
       "      <th>2</th>\n",
       "      <td>Tim Duncan</td>\n",
       "      <td>30</td>\n",
       "      <td>SAS</td>\n",
       "      <td>C</td>\n",
       "      <td>80</td>\n",
       "      <td>80</td>\n",
       "      <td>2726</td>\n",
       "      <td>26.1</td>\n",
       "      <td>0.579</td>\n",
       "      <td>0.008</td>\n",
       "      <td>...</td>\n",
       "      <td>27.9</td>\n",
       "      <td>6.3</td>\n",
       "      <td>6.8</td>\n",
       "      <td>13.0</td>\n",
       "      <td>0.230</td>\n",
       "      <td>3.8</td>\n",
       "      <td>3.2</td>\n",
       "      <td>7.0</td>\n",
       "      <td>6.2</td>\n",
       "      <td>2006-2007</td>\n",
       "    </tr>\n",
       "    <tr>\n",
       "      <th>3</th>\n",
       "      <td>Kobe Bryant</td>\n",
       "      <td>28</td>\n",
       "      <td>LAL</td>\n",
       "      <td>SG</td>\n",
       "      <td>77</td>\n",
       "      <td>77</td>\n",
       "      <td>3140</td>\n",
       "      <td>26.1</td>\n",
       "      <td>0.580</td>\n",
       "      <td>0.227</td>\n",
       "      <td>...</td>\n",
       "      <td>33.6</td>\n",
       "      <td>10.8</td>\n",
       "      <td>2.2</td>\n",
       "      <td>13.0</td>\n",
       "      <td>0.199</td>\n",
       "      <td>6.4</td>\n",
       "      <td>-0.5</td>\n",
       "      <td>5.9</td>\n",
       "      <td>6.1</td>\n",
       "      <td>2006-2007</td>\n",
       "    </tr>\n",
       "    <tr>\n",
       "      <th>4</th>\n",
       "      <td>Kevin Garnett</td>\n",
       "      <td>30</td>\n",
       "      <td>MIN</td>\n",
       "      <td>PF</td>\n",
       "      <td>76</td>\n",
       "      <td>76</td>\n",
       "      <td>2995</td>\n",
       "      <td>24.1</td>\n",
       "      <td>0.546</td>\n",
       "      <td>0.042</td>\n",
       "      <td>...</td>\n",
       "      <td>27.4</td>\n",
       "      <td>5.7</td>\n",
       "      <td>4.9</td>\n",
       "      <td>10.7</td>\n",
       "      <td>0.171</td>\n",
       "      <td>3.8</td>\n",
       "      <td>1.7</td>\n",
       "      <td>5.4</td>\n",
       "      <td>5.5</td>\n",
       "      <td>2006-2007</td>\n",
       "    </tr>\n",
       "  </tbody>\n",
       "</table>\n",
       "<p>5 rows × 28 columns</p>\n",
       "</div>"
      ],
      "text/plain": [
       "          Player  Age Team Pos   G  GS    MP   PER    TS%   3PAr  ...  USG%  \\\n",
       "0   LeBron James   22  CLE  SF  78  78  3190  24.5  0.552  0.191  ...  31.0   \n",
       "1  Dirk Nowitzki   28  DAL  PF  78  78  2820  27.6  0.605  0.129  ...  28.9   \n",
       "2     Tim Duncan   30  SAS   C  80  80  2726  26.1  0.579  0.008  ...  27.9   \n",
       "3    Kobe Bryant   28  LAL  SG  77  77  3140  26.1  0.580  0.227  ...  33.6   \n",
       "4  Kevin Garnett   30  MIN  PF  76  76  2995  24.1  0.546  0.042  ...  27.4   \n",
       "\n",
       "    OWS  DWS    WS  WS/48  OBPM  DBPM  BPM  VORP     Season  \n",
       "0   8.0  5.7  13.7  0.206   5.9   2.2  8.1   8.1  2006-2007  \n",
       "1  11.8  4.5  16.3  0.278   7.2   1.2  8.3   7.4  2006-2007  \n",
       "2   6.3  6.8  13.0  0.230   3.8   3.2  7.0   6.2  2006-2007  \n",
       "3  10.8  2.2  13.0  0.199   6.4  -0.5  5.9   6.1  2006-2007  \n",
       "4   5.7  4.9  10.7  0.171   3.8   1.7  5.4   5.5  2006-2007  \n",
       "\n",
       "[5 rows x 28 columns]"
      ]
     },
     "execution_count": 57,
     "metadata": {},
     "output_type": "execute_result"
    }
   ],
   "source": [
    "all_players = pd.read_csv('data/all_players.csv')\n",
    "all_players.head()"
   ]
  },
  {
   "cell_type": "markdown",
   "metadata": {},
   "source": [
    "# Finding: 55% of players similar to Luka continued being a top 20 player in the league the following year"
   ]
  },
  {
   "cell_type": "code",
   "execution_count": 70,
   "metadata": {},
   "outputs": [
    {
     "name": "stdout",
     "output_type": "stream",
     "text": [
      "Proportion of players similar to Luka who maintained being a top 20 player the following year: 0.55\n"
     ]
    }
   ],
   "source": [
    "players_found = 0\n",
    "total_players = 0\n",
    "\n",
    "for player, season in luka_similar.items():\n",
    "    current_season_start, current_season_end = season.split('-')  \n",
    "    next_season = f\"{int(current_season_end) + 1}-{int(current_season_end) + 2}\" \n",
    "\n",
    "    if player in all_players['Player'].values:\n",
    "        player_data = all_players[all_players['Player'] == player]\n",
    "\n",
    "        if next_season in player_data['Season'].values:\n",
    "            players_found += 1  \n",
    "    total_players += 1  \n",
    "\n",
    "proportion_luka = players_found / total_players\n",
    "print(f\"Proportion of players similar to Luka who maintained being a top 20 player the following year: {proportion_luka:.2f}\")\n"
   ]
  },
  {
   "cell_type": "markdown",
   "metadata": {},
   "source": [
    "# Moving on to AD"
   ]
  },
  {
   "cell_type": "code",
   "execution_count": 71,
   "metadata": {},
   "outputs": [],
   "source": [
    "AD_similar = {\n",
    "    \"Chris Paul\": \"2008-2009\",\n",
    "    \"Chris Paul\": \"2012-2013\",\n",
    "    \"Rajon Rondo\": \"2009-2010\",\n",
    "    \"Andre Iguodala\": \"2009-2010\",\n",
    "    \"Dwyane Wade\": \"2008-2009\",\n",
    "    \"Tim Duncan\": \"2006-2007\",\n",
    "    \"Derrick Rose\": \"2010-2011\",\n",
    "    \"Hedo Türkoğlu\": \"2007-2008\",\n",
    "    \"Rudy Gay\": \"2007-2008\",\n",
    "    \"Stephen Curry\": \"2014-2015\",\n",
    "    \"Brandon Roy\": \"2008-2009\",\n",
    "    \"Dirk Nowitzki\": \"2006-2007\",\n",
    "    \"Kobe Bryant\": \"2010-2011\",\n",
    "    \"Kevin Love\": \"2013-2014\"\n",
    "}\n"
   ]
  },
  {
   "cell_type": "markdown",
   "metadata": {},
   "source": [
    "# Finding: 62% of players similar to AD continued being a top 20 player in the league the following year"
   ]
  },
  {
   "cell_type": "code",
   "execution_count": 72,
   "metadata": {},
   "outputs": [
    {
     "name": "stdout",
     "output_type": "stream",
     "text": [
      "Proportion of players similar to AD who maintained being a top 20 player the following year: 0.62\n"
     ]
    }
   ],
   "source": [
    "players_found = 0\n",
    "total_players = 0\n",
    "\n",
    "for player, season in AD_similar.items():\n",
    "    current_season_start, current_season_end = season.split('-')  \n",
    "    next_season = f\"{int(current_season_end) + 1}-{int(current_season_end) + 2}\" \n",
    "\n",
    "    if player in all_players['Player'].values:\n",
    "        player_data = all_players[all_players['Player'] == player]\n",
    "\n",
    "        if next_season in player_data['Season'].values:\n",
    "            players_found += 1  \n",
    "    total_players += 1  \n",
    "\n",
    "proportion_AD = players_found / total_players\n",
    "print(f\"Proportion of players similar to AD who maintained being a top 20 player the following year: {proportion_AD:.2f}\")\n"
   ]
  },
  {
   "cell_type": "markdown",
   "metadata": {},
   "source": []
  },
  {
   "cell_type": "code",
   "execution_count": null,
   "metadata": {},
   "outputs": [],
   "source": []
  }
 ],
 "metadata": {
  "kernelspec": {
   "display_name": "myenv",
   "language": "python",
   "name": "python3"
  },
  "language_info": {
   "codemirror_mode": {
    "name": "ipython",
    "version": 3
   },
   "file_extension": ".py",
   "mimetype": "text/x-python",
   "name": "python",
   "nbconvert_exporter": "python",
   "pygments_lexer": "ipython3",
   "version": "3.11.11"
  }
 },
 "nbformat": 4,
 "nbformat_minor": 2
}
